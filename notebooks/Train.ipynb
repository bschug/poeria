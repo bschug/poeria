{
 "cells": [
  {
   "cell_type": "code",
   "execution_count": 45,
   "metadata": {
    "collapsed": false,
    "deletable": true,
    "editable": true
   },
   "outputs": [],
   "source": [
    "import sklearn.tree\n",
    "import pandas as pd\n",
    "import numpy as np\n",
    "import xgboost as xgb\n",
    "from sklearn.grid_search import GridSearchCV\n",
    "from sklearn import cross_validation, metrics\n",
    "from timeit import default_timer as timer\n",
    "from collections import Counter\n",
    "import itertools\n",
    "import joblib\n",
    "\n",
    "import matplotlib.pyplot as plt\n",
    "%matplotlib inline\n",
    "from matplotlib.pylab import rcParams\n",
    "rcParams['figure.figsize'] = 12, 4\n",
    "\n",
    "SECONDS_PER_CHAOS = 150\n",
    "ITEMTYPE = 'ring'"
   ]
  },
  {
   "cell_type": "markdown",
   "metadata": {},
   "source": [
    "# Import / Preprocess Data"
   ]
  },
  {
   "cell_type": "code",
   "execution_count": 46,
   "metadata": {
    "collapsed": false,
    "deletable": true,
    "editable": true
   },
   "outputs": [
    {
     "name": "stdout",
     "output_type": "stream",
     "text": [
      "(254394, 41)\n",
      "Max Price: 104526\n",
      "Average Price: 12.4583991761\n",
      "Num valuable: 129278 (50.81802243763611%)\n",
      "Num worthless: 125116 (49.18197756236389%)\n"
     ]
    }
   ],
   "source": [
    "features_pd = pd.read_csv(ITEMTYPE + '_features_1c.csv.bz2', compression='bz2')\n",
    "features_pd.rename(columns={'Price':'price'}, inplace=True)\n",
    "# Remove some items from the dataset because manual inspection showed that they're worthless\n",
    "# and people probably just set such a high price because they used their public tab as storage space\n",
    "# and didn't want trade requests for the item.\n",
    "BLACKLIST = [\n",
    "    232645, 50583, 54771, 41170, 187705, 90734, 75154, 230283, 202346, 202233, 192351, 189673, 184245, 172352,\n",
    "    154553, 20503, 252668, 148156, 204343, 205422, 167712, 142688, 135112, 118769, 101033, 59304, 53361, 128636,\n",
    "    114791, 96567, 185723, 241982, 239532, 226390, 218090, 215806, 199539, 74950, 55204, 53152, 29227, 22729,\n",
    "    71370\n",
    "]\n",
    "features_pd = features_pd.loc[features_pd['Unnamed: 0'].apply(lambda x: x not in BLACKLIST)]\n",
    "\n",
    "prices_pd = features_pd['price']\n",
    "targets_pd = prices_pd.apply(lambda x: 1 if x > 0 else 0)\n",
    "full_pd = features_pd.copy()\n",
    "full_pd['valuable'] = targets_pd\n",
    "full_pd['price'] = prices_pd\n",
    "\n",
    "features_pd = full_pd\n",
    "#features_pd = full_pd[[x for x in full_pd.columns if x not in ['valuable', 'price', 'Unnamed: 0']]]\n",
    "#columns = [x + '/' + y for x, y in itertools.combinations(features_pd.columns, 2)] + ['valuable', 'price']\n",
    "#values = []\n",
    "#for i, row in features_pd.iterrows():\n",
    "#    price = prices_pd[i]\n",
    "#    valuable = 1 if price > 0 else 0\n",
    "#    values.append([x*y for x,y in itertools.combinations(row, 2)] + [valuable, price])\n",
    "#features_pd = pd.DataFrame(data=values, columns=columns)\n",
    "#values = columns = None\n",
    "    \n",
    "print(features_pd.shape)\n",
    "\n",
    "print(\"Max Price:\", features_pd['price'].max())\n",
    "print(\"Average Price:\", features_pd['price'].mean())\n",
    "\n",
    "num_total = features_pd.shape[0]\n",
    "num_valuable = features_pd['valuable'].sum()\n",
    "num_worthless = num_total - num_valuable\n",
    "print(\"Num valuable: {} ({}%)\".format(num_valuable, (num_valuable / num_total) * 100))\n",
    "print(\"Num worthless: {} ({}%)\".format(num_worthless, (num_worthless / num_total) * 100))"
   ]
  },
  {
   "cell_type": "markdown",
   "metadata": {},
   "source": [
    "# Generic Helper Functions"
   ]
  },
  {
   "cell_type": "code",
   "execution_count": 38,
   "metadata": {
    "collapsed": true
   },
   "outputs": [],
   "source": [
    "def print_item(item):\n",
    "    for column in item.index:\n",
    "        if item[column] > 0:\n",
    "            print(\"  {}: {}\".format(column, item[column]))"
   ]
  },
  {
   "cell_type": "code",
   "execution_count": 39,
   "metadata": {
    "collapsed": true
   },
   "outputs": [],
   "source": [
    "def format_time(seconds):\n",
    "    s = seconds%60\n",
    "    m = (seconds//60)%60\n",
    "    h = seconds//3600\n",
    "    return \"{}h {}m {}s\".format(h,m,s)\n",
    "\n",
    "def evaluate_predictions(predictions, actual_y, prices):\n",
    "    true_positives = 0\n",
    "    true_negatives = 0\n",
    "    false_positives = 0\n",
    "    false_negatives = 0\n",
    "    invalid_stuff = 0\n",
    "    playtime_saved = 0\n",
    "    playtime_wasted = 0\n",
    "    wasted_by_currency = Counter()\n",
    "    count_by_currency = Counter()\n",
    "    for actual, predicted, p in zip(actual_y, predictions, prices):\n",
    "        count_by_currency[p] += 1\n",
    "        if actual == 1 and predicted == 1:\n",
    "            true_positives += 1\n",
    "            playtime_saved += 10\n",
    "        elif actual == 0 and predicted == 0:\n",
    "            true_negatives += 1\n",
    "            # This doesn't save time, player still has to price-check\n",
    "        elif actual == 0 and predicted == 1:\n",
    "            false_positives += 1\n",
    "            # This doesn't waste time, player would do this without the tool anyway\n",
    "        elif actual == 1 and predicted == 0:\n",
    "            false_negatives += 1\n",
    "            playtime_wasted += p * 150\n",
    "            wasted_by_currency[p] += 1\n",
    "        else:\n",
    "            invalid_stuff += 1\n",
    "\n",
    "    valuable_percent = sum(actual_y) / len(actual_y)\n",
    "    playtime_saved = playtime_saved / valuable_percent * 0.05\n",
    "    playtime_wasted = playtime_wasted * valuable_percent * 0.05\n",
    "\n",
    "    manual_sort_time = (len(actual_y) - sum(actual_y)) * 10 + sum(actual_y) * 30\n",
    "    assisted_sort_time = false_positives * 10 + (sum(predictions) - false_positives) * 30\n",
    "\n",
    "    print(\"Valuable Items Wasted: {} ({:.1f}%)\".format(false_negatives, 100*(false_negatives / (false_negatives + true_positives))))\n",
    "    print(\"Worthless Items Kept: {} ({:.1f}%)\".format(false_positives, 100*(false_positives / (false_positives + true_negatives))))\n",
    "\n",
    "    #print(\"Playtime Saved at 95% Junk:\", format_time(playtime_saved))\n",
    "    #print(\"Playtime Wasted at 95% Junk:\", format_time(playtime_wasted))\n",
    "\n",
    "    #print(\"Manual Sort Time:\", format_time(manual_sort_time / valuable_percent * 0.05))\n",
    "    #print(\"Assisted Sort Time:\", format_time(assisted_sort_time / valuable_percent * 0.05))\n",
    "    #print(\"Currency Wasted:\", playtime_wasted / 300, \"Chaos\")\n",
    "    \n",
    "    cph = playtime_wasted / playtime_saved * 3600 / SECONDS_PER_CHAOS\n",
    "    print(\"Currency wasted per hour of saved sort time: {:.1f} chaos\".format(cph))\n",
    "    print()\n",
    "    print(\"Items wasted by currency:\")\n",
    "    for k,v in sorted(wasted_by_currency.items()):\n",
    "        percent = v / count_by_currency[k]\n",
    "        print(\"{:5} chaos: {:6} ({:.1%})\".format(k,v,percent))"
   ]
  },
  {
   "cell_type": "code",
   "execution_count": 42,
   "metadata": {
    "collapsed": false
   },
   "outputs": [
    {
     "name": "stdout",
     "output_type": "stream",
     "text": [
      "-------------------------------\n",
      "  Unnamed: 0: 9071\n",
      "  Accuracy: 208\n",
      "  AddedColdAttackDamage: 32\n",
      "  Corrupted: 1\n",
      "  DoubledInBreach: 1\n",
      "  EnergyShield: 28\n",
      "  Life: 95\n",
      "  price: 70\n",
      "  Strength: 35\n",
      "  TotalEleResist: 24\n",
      "  valuable: 1\n",
      "-------------------------------\n",
      "  Unnamed: 0: 71370\n",
      "  Accuracy: 14\n",
      "  AddedPhysAttackDamage: 14\n",
      "  EnergyShield: 19\n",
      "  price: 70\n",
      "  TotalEleResist: 43\n",
      "  valuable: 1\n",
      "-------------------------------\n",
      "  Unnamed: 0: 22729\n",
      "  AddedColdAttackDamage: 17\n",
      "  AddedFireAttackDamage: 34\n",
      "  AddedLightningAttackDamage: 44\n",
      "  Dexterity: 24\n",
      "  HasSocket: 1\n",
      "  price: 78\n",
      "  valuable: 1\n",
      "-------------------------------\n",
      "  Unnamed: 0: 29227\n",
      "  AddedFireAttackDamage: 27\n",
      "  Corrupted: 1\n",
      "  DoubledInBreach: 1\n",
      "  EnergyShield: 6\n",
      "  ItemRarity: 14\n",
      "  LifeRegen: 47\n",
      "  price: 78\n",
      "  TotalEleResist: 9\n",
      "  valuable: 1\n",
      "-------------------------------\n",
      "  Unnamed: 0: 53152\n",
      "  Accuracy: 14\n",
      "  Life: 22\n",
      "  Mana: 39\n",
      "  ManaRegen: 13\n",
      "  price: 78\n",
      "  TotalEleResist: 14\n",
      "  valuable: 1\n",
      "-------------------------------\n",
      "  Unnamed: 0: 55204\n",
      "  Accuracy: 69\n",
      "  Evasion: 113\n",
      "  IncreasedFireDamage: 6\n",
      "  ItemRarity: 15\n",
      "  LifeGainOnHit: 2\n",
      "  price: 78\n",
      "  valuable: 1\n",
      "-------------------------------\n",
      "  Unnamed: 0: 74950\n",
      "  Accuracy: 22\n",
      "  Evasion: 65\n",
      "  Intelligence: 12\n",
      "  Life: 34\n",
      "  Mana: 6\n",
      "  price: 78\n",
      "  valuable: 1\n",
      "-------------------------------\n",
      "  Unnamed: 0: 90368\n",
      "  ChaosResist: 16\n",
      "  Corrupted: 1\n",
      "  DoubledInBreach: 1\n",
      "  EnergyShield: 14\n",
      "  Mana: 63\n",
      "  price: 78\n",
      "  TotalEleResist: 52\n",
      "  valuable: 1\n",
      "-------------------------------\n",
      "  Unnamed: 0: 114578\n",
      "  Corrupted: 1\n",
      "  DoubledInBreach: 1\n",
      "  IncreasedColdDamage: 12\n",
      "  Life: 48\n",
      "  Mana: 37\n",
      "  price: 78\n",
      "  TotalEleResist: 68\n",
      "  valuable: 1\n",
      "-------------------------------\n",
      "  Unnamed: 0: 199539\n",
      "  Corrupted: 1\n",
      "  DoubledInBreach: 1\n",
      "  EnergyShield: 14\n",
      "  Life: 70\n",
      "  LifeGainOnKill: 3\n",
      "  Mana: 64\n",
      "  price: 78\n",
      "  TotalEleResist: 30\n",
      "  valuable: 1\n",
      "-------------------------------\n",
      "  Unnamed: 0: 215806\n",
      "  Dexterity: 15\n",
      "  Life: 5\n",
      "  price: 78\n",
      "  Strength: 9\n",
      "  TotalEleResist: 26\n",
      "  valuable: 1\n",
      "-------------------------------\n",
      "  Unnamed: 0: 218090\n",
      "  Corrupted: 1\n",
      "  Dexterity: 11\n",
      "  DoubledInBreach: 1\n",
      "  Evasion: 41\n",
      "  Life: 17\n",
      "  ManaGainOnKill: 1\n",
      "  price: 78\n",
      "  valuable: 1\n",
      "-------------------------------\n",
      "  Unnamed: 0: 226390\n",
      "  Accuracy: 39\n",
      "  AddedFireAttackDamage: 16\n",
      "  EnergyShield: 37\n",
      "  price: 78\n",
      "  TotalEleResist: 45\n",
      "  valuable: 1\n",
      "-------------------------------\n",
      "  Unnamed: 0: 239532\n",
      "  AddedFireAttackDamage: 54\n",
      "  AddedPhysAttackDamage: 15\n",
      "  EnergyShield: 8\n",
      "  IncreasedFireDamage: 7\n",
      "  Intelligence: 18\n",
      "  Mana: 9\n",
      "  ManaRegen: 32\n",
      "  price: 78\n",
      "  valuable: 1\n",
      "-------------------------------\n",
      "  Unnamed: 0: 241982\n",
      "  Intelligence: 15\n",
      "  Mana: 8\n",
      "  ManaRegen: 44\n",
      "  price: 78\n",
      "  TotalEleResist: 25\n",
      "  valuable: 1\n",
      "-------------------------------\n",
      "  Unnamed: 0: 185723\n",
      "  Dexterity: 21\n",
      "  EnergyShield: 4\n",
      "  ManaGainOnKill: 5\n",
      "  price: 80\n",
      "  TotalEleResist: 33\n",
      "  valuable: 1\n",
      "-------------------------------\n",
      "  Unnamed: 0: 96567\n",
      "  AddedColdAttackDamage: 21\n",
      "  Intelligence: 18\n",
      "  Mana: 9\n",
      "  price: 156\n",
      "  TotalEleResist: 45\n",
      "  valuable: 1\n",
      "-------------------------------\n",
      "  Unnamed: 0: 114791\n",
      "  AddedFireAttackDamage: 3\n",
      "  Dexterity: 9\n",
      "  Life: 21\n",
      "  Mana: 23\n",
      "  price: 104526\n",
      "  Strength: 42\n",
      "  TotalEleResist: 39\n",
      "  valuable: 1\n",
      "-------------------------------\n",
      "  Unnamed: 0: 128636\n",
      "  IncreasedLightningDamage: 7\n",
      "  Life: 7\n",
      "  Mana: 37\n",
      "  ManaLeech: 34\n",
      "  price: 104526\n",
      "  valuable: 1\n",
      "-------------------------------\n",
      "  Unnamed: 0: 216116\n",
      "  Corrupted: 1\n",
      "  DoubledInBreach: 1\n",
      "  EnergyShield: 17\n",
      "  Evasion: 79\n",
      "  LifeRegen: 47\n",
      "  price: 104526\n",
      "  TotalEleResist: 50\n",
      "  valuable: 1\n"
     ]
    }
   ],
   "source": [
    "def print_false_negatives(features, predictions, how_many):\n",
    "    false_negatives = [x for (i,x),p in zip(features.iterrows(), predictions) if p == 0 and x['price'] > 0]\n",
    "    false_negatives.sort(key=lambda x: x['price'])\n",
    "    for item in false_negatives[-how_many:]:\n",
    "        print('-------------------------------')\n",
    "        print_item(item)\n",
    "print_false_negatives(dtest, model.predict(dtest[predictors]), 20)        "
   ]
  },
  {
   "cell_type": "markdown",
   "metadata": {},
   "source": [
    "---------------\n",
    "# xgBoost"
   ]
  },
  {
   "cell_type": "markdown",
   "metadata": {},
   "source": [
    "## xgBoost Functions"
   ]
  },
  {
   "cell_type": "code",
   "execution_count": 32,
   "metadata": {
    "collapsed": true
   },
   "outputs": [],
   "source": [
    "def duplicate_false_negatives_xgb(threshold):\n",
    "    global dtrain\n",
    "\n",
    "    num_fn = 0\n",
    "    num_tp = 0\n",
    "    false_negatives = []\n",
    "    predictions_train = model.predict(dtrain[predictors])\n",
    "    for i, (y, pred, price) in enumerate(zip(dtrain['valuable'], predictions_train, dtrain['price'])):\n",
    "        if y == 1 and pred == 0 and price >= threshold:\n",
    "            num_fn += 1\n",
    "            false_negatives.append(dtrain.iloc[i])\n",
    "        elif y == 1 and pred == 1 and price >= threshold:\n",
    "            num_tp += 1\n",
    "        \n",
    "    dtrain = dtrain.append(false_negatives)\n",
    "    return num_fn, num_tp"
   ]
  },
  {
   "cell_type": "code",
   "execution_count": 33,
   "metadata": {
    "collapsed": true
   },
   "outputs": [],
   "source": [
    "def modelfit_xgb(alg, dtrain, predictors, target, useTrainCV=True, cv_folds=5, early_stopping_rounds=50):\n",
    "    \n",
    "    if useTrainCV:\n",
    "        xgb_param = alg.get_xgb_params()\n",
    "        xgtrain = xgb.DMatrix(dtrain[predictors].values, label=dtrain[target].values)\n",
    "        cvresult = xgb.cv(xgb_param, xgtrain, num_boost_round=alg.get_params()['n_estimators'], nfold=cv_folds,\n",
    "            metrics='auc', early_stopping_rounds=early_stopping_rounds)\n",
    "        alg.set_params(n_estimators=cvresult.shape[0])\n",
    "    \n",
    "    #Fit the algorithm on the data\n",
    "    alg.fit(dtrain[predictors], dtrain[target])\n",
    "\n",
    "def show_model_stats(alg, dtrain, predictors, target):\n",
    "    #Predict training set:\n",
    "    dtrain_predictions = alg.predict(dtrain[predictors])\n",
    "    dtrain_predprob = alg.predict_proba(dtrain[predictors])[:,1]\n",
    "        \n",
    "    #Print model report:\n",
    "    print(\"\\nModel Report\")\n",
    "    print(\"Accuracy : %.4g\" % metrics.accuracy_score(dtrain[target].values, dtrain_predictions))\n",
    "    print(\"AUC Score (Train): %f\" % metrics.roc_auc_score(dtrain[target], dtrain_predprob))\n",
    "                    \n",
    "    feat_imp = pd.Series(alg.booster().get_fscore()).sort_values(ascending=False)\n",
    "    feat_imp.plot(kind='bar', title='Feature Importances')\n",
    "    plt.ylabel('Feature Importance Score')"
   ]
  },
  {
   "cell_type": "markdown",
   "metadata": {},
   "source": [
    "## xgBoost Setup"
   ]
  },
  {
   "cell_type": "code",
   "execution_count": 47,
   "metadata": {
    "collapsed": false
   },
   "outputs": [],
   "source": [
    "tmask = np.random.choice([False,True], features_pd.shape[0], p=[0.25, 0.75])\n",
    "vmask = np.invert(tmask)\n",
    "dtrain = features_pd[tmask]\n",
    "dtest = features_pd[vmask]\n",
    "\n",
    "predictors = [x for x in features_pd.columns if x not in ['price','valuable','Unnamed: 0']]\n",
    "\n",
    "xgb_params = {'learning_rate': 0.1, 'n_estimators': 100, 'max_depth':9, 'min_child_weight':6, 'gamma':0.15,\n",
    "              'seed':41083, 'subsample': 0.8, 'colsample_bytree':0.9, 'objective':'binary:logistic', \n",
    "              'scale_pos_weight':1}\n",
    "model = xgb.XGBClassifier(**xgb_params)"
   ]
  },
  {
   "cell_type": "markdown",
   "metadata": {},
   "source": [
    "## xgBoost Bad-Dog-Training"
   ]
  },
  {
   "cell_type": "code",
   "execution_count": 48,
   "metadata": {
    "collapsed": false
   },
   "outputs": [
    {
     "name": "stdout",
     "output_type": "stream",
     "text": [
      "False negatives (10c+): 2047 (13.8%)\n",
      "False negatives (20c+): 668 (7.6%)\n",
      "False negatives (30c+): 677 (10.5%)\n",
      "False negatives (40c+): 926 (17.3%)\n",
      "False negatives (50c+): 1068 (20.8%)\n",
      "False negatives (50c+): 640 (9.6%)\n",
      "False negatives (50c+): 271 (3.5%)\n",
      "Bad Dog Training done after 0.0h 10.0m 2.791922751996026s\n",
      "\n",
      "Model Report\n",
      "Accuracy : 0.6904\n",
      "AUC Score (Train): 0.759959\n",
      "Valuable Items Wasted: 11725 (36.2%)\n",
      "Worthless Items Kept: 9707 (31.0%)\n",
      "Currency wasted per hour of saved sort time: 154.8 chaos\n",
      "\n",
      "Items wasted by currency:\n",
      "    1 chaos:   6753 (48.7%)\n",
      "    2 chaos:   1481 (37.8%)\n",
      "    3 chaos:    810 (33.9%)\n",
      "    4 chaos:    346 (28.5%)\n",
      "    5 chaos:   1417 (34.9%)\n",
      "    6 chaos:     73 (19.6%)\n",
      "    7 chaos:     51 (18.1%)\n",
      "    8 chaos:     74 (17.8%)\n",
      "    9 chaos:     32 (20.3%)\n",
      "   10 chaos:    476 (28.7%)\n",
      "   11 chaos:      1 (2.7%)\n",
      "   12 chaos:     13 (9.1%)\n",
      "   13 chaos:      9 (12.7%)\n",
      "   15 chaos:     60 (10.3%)\n",
      "   16 chaos:      1 (4.8%)\n",
      "   17 chaos:     13 (18.6%)\n",
      "   18 chaos:      2 (5.7%)\n",
      "   19 chaos:      4 (18.2%)\n",
      "   20 chaos:     40 (8.0%)\n",
      "   22 chaos:      1 (2.4%)\n",
      "   23 chaos:      1 (12.5%)\n",
      "   24 chaos:      2 (18.2%)\n",
      "   25 chaos:      7 (2.7%)\n",
      "   28 chaos:      1 (5.9%)\n",
      "   29 chaos:      2 (20.0%)\n",
      "   30 chaos:      9 (3.2%)\n",
      "   35 chaos:      2 (1.6%)\n",
      "   40 chaos:      5 (2.8%)\n",
      "   45 chaos:      1 (1.5%)\n",
      "   49 chaos:      1 (20.0%)\n",
      "   50 chaos:     18 (11.6%)\n",
      "   52 chaos:      1 (50.0%)\n",
      "   60 chaos:      1 (1.8%)\n",
      "   70 chaos:      1 (3.8%)\n",
      "   78 chaos:     10 (3.1%)\n",
      "  156 chaos:      3 (1.4%)\n",
      "  234 chaos:      1 (0.9%)\n",
      "  625 chaos:      1 (4.2%)\n",
      "  781 chaos:      1 (3.4%)\n"
     ]
    },
    {
     "data": {
      "image/png": "[encoded data removed]",
      "text/plain": [
       "<matplotlib.figure.Figure at 0x7f44c13986d8>"
      ]
     },
     "metadata": {},
     "output_type": "display_data"
    }
   ],
   "source": [
    "start = timer()\n",
    "\n",
    "# Refine model by duplicating all valuable false negatives until they are properly detected\n",
    "for t in [10,20,30,40,50,50,50,50,50,50]:\n",
    "    modelfit_xgb(model, dtrain, predictors, 'valuable')\n",
    "    num_fn, num_total = duplicate_false_negatives_xgb(t)\n",
    "    print(\"False negatives ({}c+): {} ({:.1f}%)\".format(t, num_fn, (num_fn / num_total) * 100))\n",
    "    if t >= 50 and num_fn / num_total < 0.05:\n",
    "        break\n",
    "\n",
    "print(\"Bad Dog Training done after\", format_time(timer() - start))        \n",
    "show_model_stats(model, dtrain, predictors, 'valuable')        \n",
    "evaluate_predictions(model.predict(dtest[predictors]), dtest['price'].apply(lambda x: x > 0), dtest['price'])"
   ]
  },
  {
   "cell_type": "markdown",
   "metadata": {},
   "source": [
    "## xgBoost Final Model"
   ]
  },
  {
   "cell_type": "code",
   "execution_count": 49,
   "metadata": {
    "collapsed": false
   },
   "outputs": [
    {
     "name": "stdout",
     "output_type": "stream",
     "text": [
      "Final model trained after 0.0h 13.0m 55.84014190400194s\n",
      "Valuable Items Wasted: 11603 (35.9%)\n",
      "Worthless Items Kept: 9731 (31.1%)\n",
      "Currency wasted per hour of saved sort time: 151.6 chaos\n",
      "\n",
      "Items wasted by currency:\n",
      "    1 chaos:   6688 (48.2%)\n",
      "    2 chaos:   1449 (37.0%)\n",
      "    3 chaos:    803 (33.6%)\n",
      "    4 chaos:    345 (28.4%)\n",
      "    5 chaos:   1401 (34.5%)\n",
      "    6 chaos:     79 (21.2%)\n",
      "    7 chaos:     50 (17.7%)\n",
      "    8 chaos:     77 (18.5%)\n",
      "    9 chaos:     27 (17.1%)\n",
      "   10 chaos:    480 (28.9%)\n",
      "   11 chaos:      1 (2.7%)\n",
      "   12 chaos:      9 (6.3%)\n",
      "   13 chaos:      9 (12.7%)\n",
      "   14 chaos:      1 (1.9%)\n",
      "   15 chaos:     62 (10.7%)\n",
      "   16 chaos:      1 (4.8%)\n",
      "   17 chaos:     13 (18.6%)\n",
      "   18 chaos:      1 (2.9%)\n",
      "   19 chaos:      4 (18.2%)\n",
      "   20 chaos:     34 (6.8%)\n",
      "   22 chaos:      1 (2.4%)\n",
      "   23 chaos:      1 (12.5%)\n",
      "   24 chaos:      2 (18.2%)\n",
      "   25 chaos:     10 (3.9%)\n",
      "   28 chaos:      1 (5.9%)\n",
      "   29 chaos:      2 (20.0%)\n",
      "   30 chaos:      8 (2.8%)\n",
      "   35 chaos:      2 (1.6%)\n",
      "   40 chaos:      7 (4.0%)\n",
      "   49 chaos:      1 (20.0%)\n",
      "   50 chaos:     19 (12.3%)\n",
      "   52 chaos:      1 (50.0%)\n",
      "   70 chaos:      1 (3.8%)\n",
      "   78 chaos:      7 (2.1%)\n",
      "  156 chaos:      3 (1.4%)\n",
      "  234 chaos:      1 (0.9%)\n",
      "  625 chaos:      1 (4.2%)\n",
      "  781 chaos:      1 (3.4%)\n"
     ]
    },
    {
     "data": {
      "text/plain": [
       "['./ring.model']"
      ]
     },
     "execution_count": 49,
     "metadata": {},
     "output_type": "execute_result"
    }
   ],
   "source": [
    "start = timer()\n",
    "\n",
    "#dtrain = dtrain.loc[dtrain['Unnamed: 0'].apply(lambda x: x not in BLACKLIST)]\n",
    "\n",
    "final_params = {**xgb_params}\n",
    "final_params['learning_rate'] = 0.01\n",
    "final_params['n_estimators'] = 1000\n",
    "model = xgb.XGBClassifier(**final_params)\n",
    "modelfit_xgb(model, dtrain, predictors, 'valuable')\n",
    "\n",
    "print(\"Final model trained after\", format_time(timer() - start))\n",
    "\n",
    "evaluate_predictions(model.predict(dtest[predictors]), dtest['price'].apply(lambda x: x > 0), dtest['price'])\n",
    "joblib.dump(model, './' + ITEMTYPE + \".model\")"
   ]
  },
  {
   "cell_type": "markdown",
   "metadata": {},
   "source": [
    "## Tweak xgBoost Parameters"
   ]
  },
  {
   "cell_type": "code",
   "execution_count": null,
   "metadata": {
    "collapsed": false,
    "deletable": true,
    "editable": true
   },
   "outputs": [],
   "source": [
    "cv_params = {'max_depth': [7,9,11]}\n",
    "ind_params = {'learning_rate': 0.1, 'n_estimators': 100, 'max_depth':9, 'min_child_weight':6, 'gamma':0.15,\n",
    "              'seed':41083, 'subsample': 0.8, 'colsample_bytree':0.9, 'objective':'binary:logistic', \n",
    "              'scale_pos_weight':1}\n",
    "optimized_GBM = GridSearchCV(xgb.XGBClassifier(**ind_params), param_grid=cv_params, cv=5, n_jobs=4, iid=False, verbose=1)\n",
    "start = timer()\n",
    "optimized_GBM.fit(dtrain[predictors], dtrain[target])\n",
    "deltaTime = timer() - start\n",
    "s = deltaTime % 60           \n",
    "m = (deltaTime // 60) % 60  \n",
    "h = deltaTime // 3600      \n",
    "print(\"Training done after {}h {}m {}s\".format(h,m,s))"
   ]
  },
  {
   "cell_type": "code",
   "execution_count": null,
   "metadata": {
    "collapsed": false,
    "deletable": true,
    "editable": true
   },
   "outputs": [],
   "source": [
    "optimized_GBM.grid_scores_, optimized_GBM.best_params_, optimized_GBM.best_score_"
   ]
  },
  {
   "cell_type": "markdown",
   "metadata": {},
   "source": [
    "# Neural Network "
   ]
  },
  {
   "cell_type": "code",
   "execution_count": null,
   "metadata": {
    "collapsed": false
   },
   "outputs": [],
   "source": [
    "from sklearn.model_selection import train_test_split\n",
    "features_pd = full_pd[[x for x in full_pd.columns if x not in ['valuable', 'Unnamed: 0']]]\n",
    "targets_pd = full_pd['valuable']\n",
    "X_train, X_test, y_train, y_test = train_test_split(features_pd, targets_pd)\n",
    "p_train = X_train['price']\n",
    "p_test = X_test['price']\n",
    "X_train = X_train.drop('price', axis=1)\n",
    "X_test = X_test.drop('price', axis=1)\n",
    "\n",
    "from sklearn.preprocessing import StandardScaler\n",
    "scaler = StandardScaler()\n",
    "scaler.fit(X_train)\n",
    "X_train = scaler.transform(X_train)\n",
    "X_test = scaler.transform(X_test)\n",
    "\n",
    "from sklearn.neural_network import MLPClassifier\n",
    "mlp = MLPClassifier(hidden_layer_sizes=(100,30), warm_start=True)\n",
    "\n",
    "def train_model():\n",
    "    mlp.fit(X_train,y_train)"
   ]
  },
  {
   "cell_type": "code",
   "execution_count": null,
   "metadata": {
    "collapsed": true
   },
   "outputs": [],
   "source": [
    "train_model()"
   ]
  },
  {
   "cell_type": "code",
   "execution_count": null,
   "metadata": {
    "collapsed": false
   },
   "outputs": [],
   "source": [
    "from sklearn.metrics import classification_report, confusion_matrix\n",
    "predictions_train = mlp.predict(X_train)\n",
    "predictions = mlp.predict(X_test)\n",
    "print(\"TRAINING\")\n",
    "print(confusion_matrix(y_train, predictions_train))\n",
    "print(classification_report(y_train, predictions_train))\n",
    "print()\n",
    "print(\"TEST\")\n",
    "print(confusion_matrix(y_test, predictions))\n",
    "print(classification_report(y_test, predictions))\n",
    "print()\n",
    "evaluate_predictions(predictions, y_test, p_test)\n"
   ]
  },
  {
   "cell_type": "code",
   "execution_count": null,
   "metadata": {
    "collapsed": false
   },
   "outputs": [],
   "source": [
    "def duplicate_false_negatives(threshold):\n",
    "    from numpy.ma import masked_array\n",
    "    global X_train, y_train, p_train\n",
    "\n",
    "    num_fn = 0\n",
    "    num_tp = 0\n",
    "    false_negatives_X = []\n",
    "    false_negatives_y = []\n",
    "    false_negatives_p = []\n",
    "    predictions_train = mlp.predict(X_train)\n",
    "    for i, (y, p) in enumerate(zip(y_train, predictions_train)):\n",
    "        if y == 1 and p == 0 and p_train.values[i] >= threshold:\n",
    "            num_fn += 1\n",
    "            false_negatives_X.append(X_train[i,:])\n",
    "            false_negatives_y.append(y)\n",
    "            false_negatives_p.append(p_train.values[i])\n",
    "        elif y == 1 and p == 1 and p_train.values[i] >= threshold:\n",
    "            num_tp += 1\n",
    "        \n",
    "    X_train = np.concatenate((X_train, false_negatives_X))\n",
    "    y_train = np.concatenate((y_train, false_negatives_y))\n",
    "    p_train = p_train.append(pd.Series(false_negatives_p))\n",
    "    return num_fn, num_tp\n",
    "#duplicate_false_negatives()"
   ]
  },
  {
   "cell_type": "code",
   "execution_count": null,
   "metadata": {
    "collapsed": false
   },
   "outputs": [],
   "source": [
    "# Refine model by duplicating all valuable false negatives until they are properly detected\n",
    "for t in [10,20,30,40,50,50,50,50,50,50]:\n",
    "    train_model()\n",
    "    num_fn, num_total = duplicate_false_negatives(t)\n",
    "    print(\"False negatives: {} ({:.1f}%)\".format(num_fn, (num_fn / num_total) * 100))\n",
    "    if num_fn / num_total < 0.02:\n",
    "        break\n",
    "\n",
    "evaluate_predictions(mlp.predict(X_test), y_test, p_test)"
   ]
  },
  {
   "cell_type": "code",
   "execution_count": null,
   "metadata": {
    "collapsed": false
   },
   "outputs": [],
   "source": [
    "pred = mlp.predict(scaler.transform(features_pd.drop('price', axis=1)))\n",
    "assert len(pred) == features_pd.shape[0]\n",
    "for i in range(len(pred)):\n",
    "    item = features_pd.iloc[i]\n",
    "    if item['price'] > 100 and pred[i] == 0:\n",
    "        print_item(item)\n",
    "        print('------------------------------------------')"
   ]
  },
  {
   "cell_type": "code",
   "execution_count": null,
   "metadata": {
    "collapsed": false
   },
   "outputs": [],
   "source": [
    "import seaborn as sns\n",
    "sns.set()\n",
    "sns_data = full_pd.copy()\n",
    "sns_data['valuable'] = full_pd['valuable'].apply(lambda x: 1-x)\n",
    "sns.pairplot(data=sns_data, hue='valuable', vars=['TotalEleResist','Life','EnergyShield','ChaosResist'])"
   ]
  }
 ],
 "metadata": {
  "kernelspec": {
   "display_name": "Python 3",
   "language": "python",
   "name": "python3"
  },
  "language_info": {
   "codemirror_mode": {
    "name": "ipython",
    "version": 3
   },
   "file_extension": ".py",
   "mimetype": "text/x-python",
   "name": "python",
   "nbconvert_exporter": "python",
   "pygments_lexer": "ipython3",
   "version": "3.5.2"
  }
 },
 "nbformat": 4,
 "nbformat_minor": 2
}
