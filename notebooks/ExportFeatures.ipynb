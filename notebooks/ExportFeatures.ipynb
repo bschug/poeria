{
 "cells": [
  {
   "cell_type": "code",
   "execution_count": 6,
   "metadata": {
    "collapsed": false,
    "deletable": true,
    "editable": true
   },
   "outputs": [],
   "source": [
    "import sys\n",
    "import os\n",
    "import pytz\n",
    "from datetime import datetime\n",
    "\n",
    "import psycopg2\n",
    "import pandas as pd\n",
    "import numpy as np\n",
    "\n",
    "sys.path.append(os.path.join(os.path.dirname(os.getcwd()), 'src'))\n",
    "from constants import itemtype, currency, league\n",
    "\n",
    "FILENAME_SUFFIX = '_1c'\n",
    "league_id = league.BREACH\n",
    "MIN_PRICE = 1  # Anything below this (in chaos) is considered worthless\n",
    "FRESH_SECONDS = 7*24*60*60  # Assume undercut items worth MIN_PRICE will be bought in this time"
   ]
  },
  {
   "cell_type": "code",
   "execution_count": 7,
   "metadata": {
    "collapsed": false,
    "deletable": true,
    "editable": true
   },
   "outputs": [
    {
     "name": "stdout",
     "output_type": "stream",
     "text": [
      "{4: 1.0}\n"
     ]
    }
   ],
   "source": [
    "rates = currency.get_exchange_rates(league.get_name(league_id))\n",
    "print(rates)\n",
    "\n",
    "def get_chaos_price(price, currency):\n",
    "    return price * rates[currency]\n",
    "\n",
    "def is_item_valuable(price, currency, added_time, sold_time):\n",
    "    \"\"\"\n",
    "    Checks if an item is valuable or not.\n",
    "    May also return None if we can't tell.\n",
    "    \"\"\"\n",
    "    sold = sold_time > datetime(2000, 1, 1, tzinfo=pytz.UTC)\n",
    "    price = get_chaos_price(price, currency)\n",
    "\n",
    "    # If item was sold at min price or higher, it's valuable\n",
    "    if price >= MIN_PRICE and sold:\n",
    "        return True\n",
    "\n",
    "    return False\n",
    "\n",
    "def is_item_worthless(price, currency, added_time, sold_time):\n",
    "    price = get_chaos_price(price, currency)\n",
    "    fresh = (datetime.now(tz=pytz.UTC) - added_time).total_seconds() < FRESH_SECONDS\n",
    "\n",
    "    # If item was offered for a low price for more than the fresh time, assume it's worthless\n",
    "    if price < MIN_PRICE and not fresh:\n",
    "        return True\n",
    "\n",
    "    # If item is offered for a low price but the offer is younger than a day, ignore it\n",
    "\n",
    "    # If item is sold for less than min price, ignore it \n",
    "    # because we don't know if the buyer would have also bought it at a higher price\n",
    "        \n",
    "    return False\n",
    "\n",
    "\n",
    "dbconn = psycopg2.connect(dbname='poeria')\n",
    "db = dbconn.cursor()"
   ]
  },
  {
   "cell_type": "markdown",
   "metadata": {
    "deletable": true,
    "editable": true
   },
   "source": [
    "# Rings"
   ]
  },
  {
   "cell_type": "code",
   "execution_count": 8,
   "metadata": {
    "collapsed": false,
    "deletable": true,
    "editable": true
   },
   "outputs": [
    {
     "ename": "KeyError",
     "evalue": "6",
     "output_type": "error",
     "traceback": [
      "\u001b[0;31m---------------------------------------------------------------------------\u001b[0m",
      "\u001b[0;31mKeyError\u001b[0m                                  Traceback (most recent call last)",
      "\u001b[0;32m<ipython-input-8-3da341830350>\u001b[0m in \u001b[0;36m<module>\u001b[0;34m()\u001b[0m\n\u001b[1;32m     23\u001b[0m \u001b[0;34m\u001b[0m\u001b[0m\n\u001b[1;32m     24\u001b[0m \u001b[0;32mfor\u001b[0m \u001b[0mrow\u001b[0m \u001b[0;32min\u001b[0m \u001b[0mdb\u001b[0m\u001b[0;34m:\u001b[0m\u001b[0;34m\u001b[0m\u001b[0m\n\u001b[0;32m---> 25\u001b[0;31m     \u001b[0mvaluable\u001b[0m \u001b[0;34m=\u001b[0m \u001b[0mis_item_valuable\u001b[0m\u001b[0;34m(\u001b[0m\u001b[0mrow\u001b[0m\u001b[0;34m[\u001b[0m\u001b[0;36m0\u001b[0m\u001b[0;34m]\u001b[0m\u001b[0;34m,\u001b[0m \u001b[0mrow\u001b[0m\u001b[0;34m[\u001b[0m\u001b[0;36m1\u001b[0m\u001b[0;34m]\u001b[0m\u001b[0;34m,\u001b[0m \u001b[0mrow\u001b[0m\u001b[0;34m[\u001b[0m\u001b[0;36m2\u001b[0m\u001b[0;34m]\u001b[0m\u001b[0;34m,\u001b[0m \u001b[0mrow\u001b[0m\u001b[0;34m[\u001b[0m\u001b[0;36m3\u001b[0m\u001b[0;34m]\u001b[0m\u001b[0;34m)\u001b[0m\u001b[0;34m\u001b[0m\u001b[0m\n\u001b[0m\u001b[1;32m     26\u001b[0m     \u001b[0mworthless\u001b[0m \u001b[0;34m=\u001b[0m \u001b[0mis_item_worthless\u001b[0m\u001b[0;34m(\u001b[0m\u001b[0mrow\u001b[0m\u001b[0;34m[\u001b[0m\u001b[0;36m0\u001b[0m\u001b[0;34m]\u001b[0m\u001b[0;34m,\u001b[0m \u001b[0mrow\u001b[0m\u001b[0;34m[\u001b[0m\u001b[0;36m1\u001b[0m\u001b[0;34m]\u001b[0m\u001b[0;34m,\u001b[0m \u001b[0mrow\u001b[0m\u001b[0;34m[\u001b[0m\u001b[0;36m2\u001b[0m\u001b[0;34m]\u001b[0m\u001b[0;34m,\u001b[0m \u001b[0mrow\u001b[0m\u001b[0;34m[\u001b[0m\u001b[0;36m3\u001b[0m\u001b[0;34m]\u001b[0m\u001b[0;34m)\u001b[0m\u001b[0;34m\u001b[0m\u001b[0m\n\u001b[1;32m     27\u001b[0m \u001b[0;34m\u001b[0m\u001b[0m\n",
      "\u001b[0;32m<ipython-input-7-b66a5f752060>\u001b[0m in \u001b[0;36mis_item_valuable\u001b[0;34m(price, currency, added_time, sold_time)\u001b[0m\n\u001b[1;32m     11\u001b[0m     \"\"\"\n\u001b[1;32m     12\u001b[0m     \u001b[0msold\u001b[0m \u001b[0;34m=\u001b[0m \u001b[0msold_time\u001b[0m \u001b[0;34m>\u001b[0m \u001b[0mdatetime\u001b[0m\u001b[0;34m(\u001b[0m\u001b[0;36m2000\u001b[0m\u001b[0;34m,\u001b[0m \u001b[0;36m1\u001b[0m\u001b[0;34m,\u001b[0m \u001b[0;36m1\u001b[0m\u001b[0;34m,\u001b[0m \u001b[0mtzinfo\u001b[0m\u001b[0;34m=\u001b[0m\u001b[0mpytz\u001b[0m\u001b[0;34m.\u001b[0m\u001b[0mUTC\u001b[0m\u001b[0;34m)\u001b[0m\u001b[0;34m\u001b[0m\u001b[0m\n\u001b[0;32m---> 13\u001b[0;31m     \u001b[0mprice\u001b[0m \u001b[0;34m=\u001b[0m \u001b[0mget_chaos_price\u001b[0m\u001b[0;34m(\u001b[0m\u001b[0mprice\u001b[0m\u001b[0;34m,\u001b[0m \u001b[0mcurrency\u001b[0m\u001b[0;34m)\u001b[0m\u001b[0;34m\u001b[0m\u001b[0m\n\u001b[0m\u001b[1;32m     14\u001b[0m \u001b[0;34m\u001b[0m\u001b[0m\n\u001b[1;32m     15\u001b[0m     \u001b[0;31m# If item was sold at min price or higher, it's valuable\u001b[0m\u001b[0;34m\u001b[0m\u001b[0;34m\u001b[0m\u001b[0m\n",
      "\u001b[0;32m<ipython-input-7-b66a5f752060>\u001b[0m in \u001b[0;36mget_chaos_price\u001b[0;34m(price, currency)\u001b[0m\n\u001b[1;32m      3\u001b[0m \u001b[0;34m\u001b[0m\u001b[0m\n\u001b[1;32m      4\u001b[0m \u001b[0;32mdef\u001b[0m \u001b[0mget_chaos_price\u001b[0m\u001b[0;34m(\u001b[0m\u001b[0mprice\u001b[0m\u001b[0;34m,\u001b[0m \u001b[0mcurrency\u001b[0m\u001b[0;34m)\u001b[0m\u001b[0;34m:\u001b[0m\u001b[0;34m\u001b[0m\u001b[0m\n\u001b[0;32m----> 5\u001b[0;31m     \u001b[0;32mreturn\u001b[0m \u001b[0mprice\u001b[0m \u001b[0;34m*\u001b[0m \u001b[0mrates\u001b[0m\u001b[0;34m[\u001b[0m\u001b[0mcurrency\u001b[0m\u001b[0;34m]\u001b[0m\u001b[0;34m\u001b[0m\u001b[0m\n\u001b[0m\u001b[1;32m      6\u001b[0m \u001b[0;34m\u001b[0m\u001b[0m\n\u001b[1;32m      7\u001b[0m \u001b[0;32mdef\u001b[0m \u001b[0mis_item_valuable\u001b[0m\u001b[0;34m(\u001b[0m\u001b[0mprice\u001b[0m\u001b[0;34m,\u001b[0m \u001b[0mcurrency\u001b[0m\u001b[0;34m,\u001b[0m \u001b[0madded_time\u001b[0m\u001b[0;34m,\u001b[0m \u001b[0msold_time\u001b[0m\u001b[0;34m)\u001b[0m\u001b[0;34m:\u001b[0m\u001b[0;34m\u001b[0m\u001b[0m\n",
      "\u001b[0;31mKeyError\u001b[0m: 6"
     ]
    }
   ],
   "source": [
    "db.execute(\"\"\"\n",
    "SELECT Price, Currency, AddedTime, SoldTime, -- 3\n",
    "       Corrupted, Sockets, DoubledInBreach,  -- 6\n",
    "       Strength, Dexterity, Intelligence,    -- 9\n",
    "       Life, Mana, Evasion, EnergyShield,    -- 13\n",
    "       Accuracy, CritChance, AttackSpeed, CastSpeed,   -- 17\n",
    "       FireResist, ColdResist, LightningResist, ChaosResist,  -- 21\n",
    "       AddedPhysAttackDamage, AddedFireAttackDamage, AddedColdAttackDamage,  --24\n",
    "       AddedLightningAttackDamage, AddedChaosAttackDamage,  -- 26                                                  -- 31\n",
    "       IncreasedEleDamage, IncreasedWeaponEleDamage, IncreasedFireDamage, IncreasedColdDamage, IncreasedLightningDamage, \n",
    "       ItemRarity, LifeLeech, ManaLeech, LifeGainOnHit, LifeGainOnKill, LifeRegen, ManaGainOnKill, ManaRegen,   -- 39\n",
    "       AvoidFreeze, GrantedSkillId, ManaGainOnHit, DamageToMana, LightRadius  --44\n",
    "  FROM StashContents s, RingItems r\n",
    " WHERE s.league = %s\n",
    "   AND s.ItemId = r.ItemId\"\"\",\n",
    "           (league_id,))\n",
    "\n",
    "features = []\n",
    "targets = []\n",
    "\n",
    "num_valuable = 0\n",
    "num_worthless = 0\n",
    "\n",
    "for row in db:\n",
    "    valuable = is_item_valuable(row[0], row[1], row[2], row[3])\n",
    "    worthless = is_item_worthless(row[0], row[1], row[2], row[3])\n",
    "    \n",
    "    # Ignore this item if we can't tell if it's valuable or not\n",
    "    if not valuable and not worthless:\n",
    "        continue\n",
    "        \n",
    "    features.append({\n",
    "        'Price': get_chaos_price(row[0], row[1]) if valuable else 0,\n",
    "        'Corrupted': row[4],\n",
    "        'HasSocket': len(row[5]),\n",
    "        'HasWhiteSocket': 1 if row[5] == 'W' else 0, \n",
    "        'DoubledInBreach': row[6],  \n",
    "        'Strength': row[7],  \n",
    "        'Dexterity': row[8],  \n",
    "        'Intelligence': row[9],  \n",
    "        'Life': row[10],  \n",
    "        'Mana': row[11],  \n",
    "        'Evasion': row[12],  \n",
    "        'EnergyShield': row[13],  \n",
    "        'Accuracy': row[14],  \n",
    "        'CritChance': row[15],  \n",
    "        'AttackSpeed': row[16],  \n",
    "        'CastSpeed': row[17],  \n",
    "        'TotalEleResist': row[18] + row[19] + row[20],  \n",
    "        'ChaosResist': row[21],  \n",
    "        'AddedPhysAttackDamage': row[22],  \n",
    "        'AddedFireAttackDamage': row[23],  \n",
    "        'AddedColdAttackDamage': row[24],  \n",
    "        'AddedLightningAttackDamage': row[25],  \n",
    "        'AddedChaosAttackDamage': row[26],  \n",
    "        'IncreasedEleDamage': row[27],  \n",
    "        'IncreasedWeaponEleDamage': row[28],  \n",
    "        'IncreasedFireDamage': row[29],  \n",
    "        'IncreasedColdDamage': row[30],  \n",
    "        'IncreasedLightningDamage': row[31],  \n",
    "        'ItemRarity': row[32],  \n",
    "        'LifeLeech': row[33],  \n",
    "        'ManaLeech': row[34],  \n",
    "        'LifeGainOnHit': row[35],  \n",
    "        'LifeGainOnKill': row[36],  \n",
    "        'LifeRegen': row[37],  \n",
    "        'ManaGainOnKill': row[38],  \n",
    "        'ManaRegen': row[39],  \n",
    "        'ManaGainOnHit': row[40],  \n",
    "        'DamageToMana': row[41],  \n",
    "        'LightRadius': row[42],   \n",
    "    })\n",
    "    \n",
    "    num_valuable += 1 if valuable else 0\n",
    "    num_worthless += 1 if worthless else 0\n",
    "\n",
    "print(\"Found a total of {} interesting items\".format(len(features)))\n",
    "print(\"    {:10} valuable ({:.1f}%)\".format(num_valuable, 100*(num_valuable/len(features))))\n",
    "print(\"    {:10} worthless ({:.1f}%)\".format(num_worthless, 100*(num_worthless/len(features))))\n",
    "print()\n",
    "\n",
    "features = pd.DataFrame(features, dtype=int)\n",
    "features.to_csv('ring_features{}.csv.bz2'.format(FILENAME_SUFFIX), compression='bz2')\n"
   ]
  }
 ],
 "metadata": {
  "kernelspec": {
   "display_name": "Python 3",
   "language": "python",
   "name": "python3"
  },
  "language_info": {
   "codemirror_mode": {
    "name": "ipython",
    "version": 3
   },
   "file_extension": ".py",
   "mimetype": "text/x-python",
   "name": "python",
   "nbconvert_exporter": "python",
   "pygments_lexer": "ipython3",
   "version": "3.5.2+"
  }
 },
 "nbformat": 4,
 "nbformat_minor": 2
}
